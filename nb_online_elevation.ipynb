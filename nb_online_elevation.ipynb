{
 "cells": [
  {
   "cell_type": "code",
   "execution_count": 19,
   "id": "56b4da53",
   "metadata": {},
   "outputs": [],
   "source": [
    "import anuga\n",
    "import numpy as np\n",
    "import matplotlib.pyplot as plt\n",
    "\n",
    "%matplotlib inline\n",
    "\n",
    "# Allow inline jshtml animations\n",
    "from matplotlib import rc\n",
    "rc('animation', html='jshtml')"
   ]
  },
  {
   "cell_type": "code",
   "execution_count": 2,
   "id": "fa07694c",
   "metadata": {},
   "outputs": [],
   "source": [
    "def make_a_utm_tif(south=True):\n",
    "    # We need to make a .tif to test some functions\n",
    "    # This does the job\n",
    "    #\n",
    "    from anuga.utilities import plot_utils as util\n",
    "    import numpy\n",
    "    \n",
    "    if south==True:\n",
    "        # Use Make_Geotif to make tif file\n",
    "        # Pick a domain that makes sense in EPSG:32756\n",
    "        # WGS 84 / UTM zone 56 South\n",
    "        x = numpy.linspace(307000., 307100., 101)\n",
    "        y = numpy.linspace(6193000., 6193100., 101)\n",
    "        xG, yG = numpy.meshgrid(x, y)\n",
    "        xG = xG.flatten()\n",
    "        yG = yG.flatten()\n",
    "        # Surface is z=x+y\n",
    "        fakeZ = xG-min(xG)+yG - min(yG)\n",
    "        dataToGrid = numpy.vstack([xG, yG, fakeZ]).transpose()\n",
    "        #\n",
    "        util.Make_Geotif(dataToGrid, output_quantities=['test_utm'],\n",
    "                        EPSG_CODE=32756, output_dir='.', CellSize=1.0)\n",
    "    \n",
    "    if south==False:\n",
    "        # Use Make_Geotif to make tif file\n",
    "        # Pick a domain that makes sense in EPSG:32656\n",
    "        # WGS 84 / UTM zone 56 North\n",
    "        x = numpy.linspace(307000., 307100., 101)\n",
    "        y = numpy.linspace(6193000., 6193100., 101)\n",
    "        xG, yG = numpy.meshgrid(x, y)\n",
    "        xG = xG.flatten()\n",
    "        yG = yG.flatten()\n",
    "        # Surface is z=x+y\n",
    "        fakeZ = xG-min(xG)+yG - min(yG)\n",
    "        dataToGrid = numpy.vstack([xG, yG, fakeZ]).transpose()\n",
    "        #\n",
    "        util.Make_Geotif(dataToGrid, output_quantities=['test_utm'],\n",
    "                        EPSG_CODE=32656, output_dir='.', CellSize=1.0)\n",
    "    \n",
    "def make_a_ll_tif():\n",
    "    # We need to make a .tif with ll coord to test some functions\n",
    "    #\n",
    "    from anuga.utilities import plot_utils as util\n",
    "    import numpy\n",
    "    #\n",
    "    # Do it with Make_Geotif\n",
    "    # Pick a domain that makes sense in EPSG:32756\n",
    "    lat_min, lat_max = -34.39, -34.37\n",
    "    lon_min, lon_max = 150.90, 150.92\n",
    "    lat = numpy.linspace(lat_min , lat_max, 101) \n",
    "    long = numpy.linspace(lon_min, lon_max, 101) \n",
    "\n",
    "    xG, yG = numpy.meshgrid(long, lat)\n",
    "    xG = xG.flatten()\n",
    "    yG = yG.flatten()\n",
    "    # Surface is z=x+y\n",
    "    \n",
    "    fakeZ = (xG-min(xG))/(max(xG)-min(xG))+(yG - min(yG))/(max(yG)-min(yG))\n",
    "    dataToGrid = numpy.vstack([xG, yG, fakeZ]).transpose()\n",
    "    #\n",
    "    #print(dataToGrid.shape)\n",
    "    util.Make_Geotif(dataToGrid, output_quantities=['test_ll'],\n",
    "                     EPSG_CODE=4326, output_dir='.', CellSize=0.0001)"
   ]
  },
  {
   "cell_type": "code",
   "execution_count": 3,
   "id": "993376d1",
   "metadata": {},
   "outputs": [
    {
     "name": "stdout",
     "output_type": "stream",
     "text": [
      "make: Entering directory '/home/anuga/.cache/elevation/SRTM1'\n",
      "make: Nothing to be done for 'download'.\n",
      "make: Leaving directory '/home/anuga/.cache/elevation/SRTM1'\n",
      "make: Entering directory '/home/anuga/.cache/elevation/SRTM1'\n",
      "make: Nothing to be done for 'all'.\n",
      "make: Leaving directory '/home/anuga/.cache/elevation/SRTM1'\n",
      "make: Entering directory '/home/anuga/.cache/elevation/SRTM1'\n",
      "cp SRTM1.vrt SRTM1.f47010bcc081463788ee80143cda80f4.vrt\n",
      "make: Leaving directory '/home/anuga/.cache/elevation/SRTM1'\n",
      "make: Entering directory '/home/anuga/.cache/elevation/SRTM1'\n",
      "gdal_translate -q -co TILED=YES -co COMPRESS=DEFLATE -co ZLEVEL=9 -co PREDICTOR=2 -projwin 150.6 -33.3 151.4 -34.1 SRTM1.f47010bcc081463788ee80143cda80f4.vrt /home/anuga/anuga_core/Sydney-DEM.tif\n",
      "rm -f SRTM1.f47010bcc081463788ee80143cda80f4.vrt\n",
      "make: Leaving directory '/home/anuga/.cache/elevation/SRTM1'\n",
      "make: Entering directory '/home/anuga/.cache/elevation/SRTM1'\n",
      "find cache -size 0 -name \"*.tif\" -delete\n",
      "rm -f SRTM1.*.vrt\n",
      "rm -f -r spool/*\n",
      "make: Leaving directory '/home/anuga/.cache/elevation/SRTM1'\n"
     ]
    }
   ],
   "source": [
    "# Download elevation data for Sydney area\n",
    "import elevation\n",
    "lat_min, lat_max = -34.1, -33.3\n",
    "lon_min, lon_max = 150.6, 151.4\n",
    "\n",
    "\n",
    "import os\n",
    "cwd = os.getcwd()\n",
    "\n",
    "tif_filename = anuga.join(cwd,r'Sydney-DEM.tif')\n",
    "\n",
    "\n",
    "elevation.clip(bounds=(lon_min, lat_min, lon_max, lat_max), \n",
    "               output=tif_filename)\n",
    "\n",
    "elevation.clean()"
   ]
  },
  {
   "cell_type": "code",
   "execution_count": 4,
   "id": "2a4eac29",
   "metadata": {},
   "outputs": [
    {
     "name": "stdout",
     "output_type": "stream",
     "text": [
      "1\n",
      "2880 2880\n",
      "(150.5998611111111, 0.0002777777777777778, 0.0, -33.299861111111106, 0.0, -0.0002777777777777778)\n"
     ]
    }
   ],
   "source": [
    "from osgeo import gdal\n",
    "import matplotlib.pyplot as plt\n",
    "\n",
    "import cartopy.crs as ccrs\n",
    "data_crs = ccrs.PlateCarree()\n",
    "\n",
    "dataset = gdal.Open(r'Sydney-DEM.tif')\n",
    "#dataset = gdal.Open(r'Rome-DEM.tif')\n",
    "#dataset = gdal.Open(r'NEW-DEM.tif')\n",
    "print(dataset.RasterCount)\n",
    "print(dataset.RasterXSize, dataset.RasterYSize)\n",
    "print(dataset.GetGeoTransform())"
   ]
  },
  {
   "cell_type": "code",
   "execution_count": 5,
   "id": "e8a3c76e",
   "metadata": {},
   "outputs": [
    {
     "name": "stdout",
     "output_type": "stream",
     "text": [
      "-32768.0\n"
     ]
    },
    {
     "data": {
      "image/png": "[encoded data removed]",
      "text/plain": [
       "<Figure size 640x480 with 2 Axes>"
      ]
     },
     "metadata": {},
     "output_type": "display_data"
    }
   ],
   "source": [
    "band1 = dataset.GetRasterBand(1)\n",
    "novalue = band1.GetNoDataValue()\n",
    "\n",
    "print(novalue)\n",
    "\n",
    "b1 = band1.ReadAsArray()\n",
    "\n",
    "b1 = numpy.flipud(b1)\n",
    "plt.figure()\n",
    "\n",
    "ax = plt.axes()\n",
    "#ax.set_global()\n",
    "\n",
    "#plt.imshow(b1)\n",
    "plt.contourf(b1, vmax=300, vmin=0.0)\n",
    "#plt.contour(b1, colors = 'black', #cmap = \"Grey\", \n",
    "#            levels = [0.0, 2000]) #list(range(1, 3, 1)))\n",
    "#ax.coastlines()\n",
    "plt.colorbar()\n",
    "plt.show()"
   ]
  },
  {
   "cell_type": "code",
   "execution_count": null,
   "id": "294cbb6e",
   "metadata": {},
   "outputs": [],
   "source": []
  },
  {
   "cell_type": "code",
   "execution_count": 6,
   "id": "d41072e2",
   "metadata": {},
   "outputs": [],
   "source": [
    "make_a_utm_tif(south=False)\n",
    "make_a_ll_tif()"
   ]
  },
  {
   "cell_type": "code",
   "execution_count": 7,
   "id": "0a117b4c",
   "metadata": {},
   "outputs": [
    {
     "name": "stdout",
     "output_type": "stream",
     "text": [
      "CITATION.cff            Untitled.ipynb           \u001b[0m\u001b[01;34mexamples\u001b[0m/\r\n",
      "CONTRIBUTING.rst        Untitled1.ipynb          nb_online_elevation.ipynb\r\n",
      "Friday_24_March.pdf     \u001b[01;34m__pycache__\u001b[0m/             porting_notes.rst\r\n",
      "INSTALL.rst             _config.yml              pyproject.toml\r\n",
      "LICENCE.txt             \u001b[01;34manuga\u001b[0m/                   requirements.txt\r\n",
      "MANIFEST.in             \u001b[01;34manuga.egg-info\u001b[0m/          run_validations.py\r\n",
      "\u001b[01;35mNEW-DEM.tif\u001b[0m             appveyor.yml             \u001b[01;32mruntests.py\u001b[0m*\r\n",
      "\u001b[01;35mNSW-DEM.tif\u001b[0m             \u001b[01;34mbuild\u001b[0m/                   \u001b[01;34mscreenshots\u001b[0m/\r\n",
      "\u001b[01;35mPointData_test_ll.tif\u001b[0m   create_revision_file.py  setup.py\r\n",
      "\u001b[01;35mPointData_test_utm.tif\u001b[0m  \u001b[01;34mdoc\u001b[0m/                     \u001b[01;34mtools\u001b[0m/\r\n",
      "README.rst              \u001b[01;34mdocs\u001b[0m/                    \u001b[01;34mvalidation_tests\u001b[0m/\r\n",
      "\u001b[01;35mRome-DEM.tif\u001b[0m            \u001b[01;35mdownloaded-DEM.tif\u001b[0m       windows_setup.cfg\r\n",
      "\u001b[01;35mSydney-DEM.tif\u001b[0m          environment.yml\r\n"
     ]
    }
   ],
   "source": [
    "ls"
   ]
  },
  {
   "cell_type": "code",
   "execution_count": 8,
   "id": "48e7fbbf",
   "metadata": {},
   "outputs": [],
   "source": [
    "from anuga.file_conversion.tif2array import  tif2array\n",
    "from anuga.file_conversion.tif2point_values import tif2point_values"
   ]
  },
  {
   "cell_type": "code",
   "execution_count": 9,
   "id": "dcd93a7d",
   "metadata": {},
   "outputs": [
    {
     "name": "stdout",
     "output_type": "stream",
     "text": [
      "(101,) (101,) (101, 101)\n",
      "array([ 11.,  12.,  13.,  14.,  15.,  16.,  17.,  18.,  19.,  20.,  21.,\n",
      "        22.,  23.,  24.,  25.,  26.,  27.,  28.,  29.,  30.,  31.,  32.,\n",
      "        33.,  34.,  35.,  36.,  37.,  38.,  39.,  40.,  41.,  42.,  43.,\n",
      "        44.,  45.,  46.,  47.,  48.,  49.,  50.,  51.,  52.,  53.,  54.,\n",
      "        55.,  56.,  57.,  58.,  59.,  60.,  61.,  62.,  63.,  64.,  65.,\n",
      "        66.,  67.,  68.,  69.,  70.,  71.,  72.,  73.,  74.,  75.,  76.,\n",
      "        77.,  78.,  79.,  80.,  81.,  82.,  83.,  84.,  85.,  86.,  87.,\n",
      "        88.,  89.,  90.,  91.,  92.,  93.,  94.,  95.,  96.,  97.,  98.,\n",
      "        99., 100., 101., 102., 103., 104., 105., 106., 107., 108., 109.,\n",
      "       110., 111.], dtype=float32)\n",
      "array([6193000.5, 6193001.5, 6193002.5, 6193003.5, 6193004.5, 6193005.5,\n",
      "       6193006.5, 6193007.5, 6193008.5, 6193009.5, 6193010.5, 6193011.5,\n",
      "       6193012.5, 6193013.5, 6193014.5, 6193015.5, 6193016.5, 6193017.5,\n",
      "       6193018.5, 6193019.5, 6193020.5, 6193021.5, 6193022.5, 6193023.5,\n",
      "       6193024.5, 6193025.5, 6193026.5, 6193027.5, 6193028.5, 6193029.5,\n",
      "       6193030.5, 6193031.5, 6193032.5, 6193033.5, 6193034.5, 6193035.5,\n",
      "       6193036.5, 6193037.5, 6193038.5, 6193039.5, 6193040.5, 6193041.5,\n",
      "       6193042.5, 6193043.5, 6193044.5, 6193045.5, 6193046.5, 6193047.5,\n",
      "       6193048.5, 6193049.5, 6193050.5, 6193051.5, 6193052.5, 6193053.5,\n",
      "       6193054.5, 6193055.5, 6193056.5, 6193057.5, 6193058.5, 6193059.5,\n",
      "       6193060.5, 6193061.5, 6193062.5, 6193063.5, 6193064.5, 6193065.5,\n",
      "       6193066.5, 6193067.5, 6193068.5, 6193069.5, 6193070.5, 6193071.5,\n",
      "       6193072.5, 6193073.5, 6193074.5, 6193075.5, 6193076.5, 6193077.5,\n",
      "       6193078.5, 6193079.5, 6193080.5, 6193081.5, 6193082.5, 6193083.5,\n",
      "       6193084.5, 6193085.5, 6193086.5, 6193087.5, 6193088.5, 6193089.5,\n",
      "       6193090.5, 6193091.5, 6193092.5, 6193093.5, 6193094.5, 6193095.5,\n",
      "       6193096.5, 6193097.5, 6193098.5, 6193099.5, 6193100.5])\n",
      "array([306999.5, 307000.5, 307001.5, 307002.5, 307003.5, 307004.5,\n",
      "       307005.5, 307006.5, 307007.5, 307008.5, 307009.5, 307010.5,\n",
      "       307011.5, 307012.5, 307013.5, 307014.5, 307015.5, 307016.5,\n",
      "       307017.5, 307018.5, 307019.5, 307020.5, 307021.5, 307022.5,\n",
      "       307023.5, 307024.5, 307025.5, 307026.5, 307027.5, 307028.5,\n",
      "       307029.5, 307030.5, 307031.5, 307032.5, 307033.5, 307034.5,\n",
      "       307035.5, 307036.5, 307037.5, 307038.5, 307039.5, 307040.5,\n",
      "       307041.5, 307042.5, 307043.5, 307044.5, 307045.5, 307046.5,\n",
      "       307047.5, 307048.5, 307049.5, 307050.5, 307051.5, 307052.5,\n",
      "       307053.5, 307054.5, 307055.5, 307056.5, 307057.5, 307058.5,\n",
      "       307059.5, 307060.5, 307061.5, 307062.5, 307063.5, 307064.5,\n",
      "       307065.5, 307066.5, 307067.5, 307068.5, 307069.5, 307070.5,\n",
      "       307071.5, 307072.5, 307073.5, 307074.5, 307075.5, 307076.5,\n",
      "       307077.5, 307078.5, 307079.5, 307080.5, 307081.5, 307082.5,\n",
      "       307083.5, 307084.5, 307085.5, 307086.5, 307087.5, 307088.5,\n",
      "       307089.5, 307090.5, 307091.5, 307092.5, 307093.5, 307094.5,\n",
      "       307095.5, 307096.5, 307097.5, 307098.5, 307099.5])\n"
     ]
    }
   ],
   "source": [
    "from pprint import pprint\n",
    "x,y,Z = tif2array('PointData_test_utm.tif')\n",
    "print(x.shape, y.shape, Z.shape)\n",
    "pprint(Z[11,:])\n",
    "pprint(y)\n",
    "pprint(x)"
   ]
  },
  {
   "cell_type": "code",
   "execution_count": 10,
   "id": "a457088e",
   "metadata": {},
   "outputs": [
    {
     "name": "stdout",
     "output_type": "stream",
     "text": [
      "(121,)\n",
      "0.21774116 1.21\n",
      "array([0.21774116, 0.27      , 0.32333332, 0.3740863 , 0.42774117,\n",
      "       0.48333332, 0.5340863 , 0.5933333 , 0.64      , 0.69225883,\n",
      "       0.75      , 0.25666666, 0.3159137 , 0.36774117, 0.42      ,\n",
      "       0.47591373, 0.53      , 0.58      , 0.63774115, 0.68774116,\n",
      "       0.7366667 , 0.79225886, 0.30408627, 0.36      , 0.41      ,\n",
      "       0.46225885, 0.52      , 0.5759137 , 0.62666667, 0.6766667 ,\n",
      "       0.73      , 0.78225887, 0.84      , 0.35774115, 0.40774116,\n",
      "       0.45774117, 0.51      , 0.56591374, 0.62      , 0.67225885,\n",
      "       0.73      , 0.78333336, 0.83      , 0.88408625, 0.4       ,\n",
      "       0.45591372, 0.50225884, 0.55225885, 0.6066667 , 0.6659137 ,\n",
      "       0.72      , 0.7722588 , 0.8240863 , 0.88      , 0.93225884,\n",
      "       0.44225883, 0.49666667, 0.55225885, 0.60225886, 0.66      ,\n",
      "       0.71      , 0.7622588 , 0.82      , 0.87      , 0.92225885,\n",
      "       0.9766667 , 0.49      , 0.54225886, 0.6       , 0.65      ,\n",
      "       0.70774114, 0.76      , 0.81333333, 0.8640863 , 0.9140863 ,\n",
      "       0.97      , 1.0222589 , 0.54      , 0.58666664, 0.6422588 ,\n",
      "       0.69408625, 0.75      , 0.80225885, 0.86      , 0.91225886,\n",
      "       0.9633333 , 1.0140862 , 1.07      , 0.5840863 , 0.64      ,\n",
      "       0.69      , 0.7366667 , 0.79225886, 0.8466667 , 0.9059137 ,\n",
      "       0.95666665, 1.01      , 1.0677412 , 1.1122588 , 0.6333333 ,\n",
      "       0.68774116, 0.74      , 0.79      , 0.84      , 0.8922588 ,\n",
      "       0.95      , 1.0040863 , 1.0540863 , 1.1133333 , 1.1677412 ,\n",
      "       0.6740863 , 0.73      , 0.7840863 , 0.83774114, 0.8933333 ,\n",
      "       0.94408625, 0.99774116, 1.0533333 , 1.1       , 1.1559137 ,\n",
      "       1.21      ], dtype=float32)\n"
     ]
    }
   ],
   "source": [
    "x = numpy.linspace(307000., 308000., 11)\n",
    "y = numpy.linspace(6193000., 6194000., 11)\n",
    "xG, yG = numpy.meshgrid(x, y)\n",
    "xG = xG.flatten()\n",
    "yG = yG.flatten()\n",
    "\n",
    "\n",
    "points = numpy.vstack((xG,yG)).T\n",
    "Z = tif2point_values('PointData_test_ll.tif', zone=56, south=True, points = points)\n",
    "print(Z.shape)\n",
    "print(min(Z),max(Z))\n",
    "import pprint\n",
    "pprint.pprint(Z)"
   ]
  },
  {
   "cell_type": "code",
   "execution_count": 11,
   "id": "e8b6960a",
   "metadata": {},
   "outputs": [],
   "source": [
    "import utm\n",
    "\n"
   ]
  },
  {
   "cell_type": "code",
   "execution_count": 12,
   "id": "f8320107",
   "metadata": {},
   "outputs": [
    {
     "name": "stdout",
     "output_type": "stream",
     "text": [
      "[-34.38641792 -34.38553534 -34.38465275 -34.38377016 -34.38288755\n",
      " -34.38200493 -34.3811223  -34.38023965 -34.379357   -34.37847434\n",
      " -34.37759166]\n",
      "[150.90069257 150.90180214 150.90291169 150.90402122 150.90513073\n",
      " 150.90624021 150.90734967 150.9084591  150.90956851 150.9106779\n",
      " 150.91178726]\n"
     ]
    }
   ],
   "source": [
    "lat, lon = utm.to_latlon(x,y,zone_number=56, northern=False)\n",
    "print(lat)\n",
    "print(lon)"
   ]
  },
  {
   "cell_type": "code",
   "execution_count": 13,
   "id": "2fb5edf9",
   "metadata": {},
   "outputs": [
    {
     "ename": "OutOfRangeError",
     "evalue": "northing out of range (must be between 0 m and 10,000,000 m)",
     "output_type": "error",
     "traceback": [
      "\u001b[0;31m---------------------------------------------------------------------------\u001b[0m",
      "\u001b[0;31mOutOfRangeError\u001b[0m                           Traceback (most recent call last)",
      "\u001b[0;32m/tmp/ipykernel_529/3572639605.py\u001b[0m in \u001b[0;36m<cell line: 1>\u001b[0;34m()\u001b[0m\n\u001b[0;32m----> 1\u001b[0;31m \u001b[0mlat\u001b[0m\u001b[0;34m,\u001b[0m \u001b[0mlon\u001b[0m \u001b[0;34m=\u001b[0m \u001b[0mutm\u001b[0m\u001b[0;34m.\u001b[0m\u001b[0mto_latlon\u001b[0m\u001b[0;34m(\u001b[0m\u001b[0mx\u001b[0m\u001b[0;34m,\u001b[0m\u001b[0my\u001b[0m\u001b[0;34m,\u001b[0m\u001b[0mzone_number\u001b[0m\u001b[0;34m=\u001b[0m\u001b[0;36m56\u001b[0m\u001b[0;34m,\u001b[0m \u001b[0mnorthern\u001b[0m\u001b[0;34m=\u001b[0m\u001b[0;32mTrue\u001b[0m\u001b[0;34m)\u001b[0m\u001b[0;34m\u001b[0m\u001b[0;34m\u001b[0m\u001b[0m\n\u001b[0m\u001b[1;32m      2\u001b[0m \u001b[0mprint\u001b[0m\u001b[0;34m(\u001b[0m\u001b[0mlat\u001b[0m\u001b[0;34m)\u001b[0m\u001b[0;34m\u001b[0m\u001b[0;34m\u001b[0m\u001b[0m\n\u001b[1;32m      3\u001b[0m \u001b[0mprint\u001b[0m\u001b[0;34m(\u001b[0m\u001b[0mlon\u001b[0m\u001b[0;34m)\u001b[0m\u001b[0;34m\u001b[0m\u001b[0;34m\u001b[0m\u001b[0m\n",
      "\u001b[0;32m~/miniforge3/envs/anuga_env/lib/python3.9/site-packages/utm/conversion.py\u001b[0m in \u001b[0;36mto_latlon\u001b[0;34m(easting, northing, zone_number, zone_letter, northern, strict)\u001b[0m\n\u001b[1;32m    124\u001b[0m             \u001b[0;32mraise\u001b[0m \u001b[0mOutOfRangeError\u001b[0m\u001b[0;34m(\u001b[0m\u001b[0;34m'easting out of range (must be between 100,000 m and 999,999 m)'\u001b[0m\u001b[0;34m)\u001b[0m\u001b[0;34m\u001b[0m\u001b[0;34m\u001b[0m\u001b[0m\n\u001b[1;32m    125\u001b[0m         \u001b[0;32mif\u001b[0m \u001b[0;32mnot\u001b[0m \u001b[0min_bounds\u001b[0m\u001b[0;34m(\u001b[0m\u001b[0mnorthing\u001b[0m\u001b[0;34m,\u001b[0m \u001b[0;36m0\u001b[0m\u001b[0;34m,\u001b[0m \u001b[0;36m10000000\u001b[0m\u001b[0;34m)\u001b[0m\u001b[0;34m:\u001b[0m\u001b[0;34m\u001b[0m\u001b[0;34m\u001b[0m\u001b[0m\n\u001b[0;32m--> 126\u001b[0;31m             \u001b[0;32mraise\u001b[0m \u001b[0mOutOfRangeError\u001b[0m\u001b[0;34m(\u001b[0m\u001b[0;34m'northing out of range (must be between 0 m and 10,000,000 m)'\u001b[0m\u001b[0;34m)\u001b[0m\u001b[0;34m\u001b[0m\u001b[0;34m\u001b[0m\u001b[0m\n\u001b[0m\u001b[1;32m    127\u001b[0m \u001b[0;34m\u001b[0m\u001b[0m\n\u001b[1;32m    128\u001b[0m     \u001b[0mcheck_valid_zone\u001b[0m\u001b[0;34m(\u001b[0m\u001b[0mzone_number\u001b[0m\u001b[0;34m,\u001b[0m \u001b[0mzone_letter\u001b[0m\u001b[0;34m)\u001b[0m\u001b[0;34m\u001b[0m\u001b[0;34m\u001b[0m\u001b[0m\n",
      "\u001b[0;31mOutOfRangeError\u001b[0m: northing out of range (must be between 0 m and 10,000,000 m)"
     ]
    }
   ],
   "source": [
    "lat, lon = utm.to_latlon(x,y,zone_number=56, northern=True)\n",
    "print(lat)\n",
    "print(lon)"
   ]
  },
  {
   "cell_type": "code",
   "execution_count": 14,
   "id": "255e7990",
   "metadata": {},
   "outputs": [
    {
     "data": {
      "text/plain": [
       "array([-3807000., -3806900., -3806800., -3806700., -3806600., -3806500.,\n",
       "       -3806400., -3806300., -3806200., -3806100., -3806000.])"
      ]
     },
     "execution_count": 14,
     "metadata": {},
     "output_type": "execute_result"
    }
   ],
   "source": [
    "y"
   ]
  },
  {
   "cell_type": "code",
   "execution_count": 15,
   "id": "5e2c2e19",
   "metadata": {},
   "outputs": [
    {
     "name": "stdout",
     "output_type": "stream",
     "text": [
      "-36.14471809833201\n",
      "153.0\n"
     ]
    }
   ],
   "source": [
    "lat, lon = utm.to_latlon(500_000,-4_000_000,zone_number=56, northern=True, strict=False)\n",
    "print(lat)\n",
    "print(lon)"
   ]
  },
  {
   "cell_type": "code",
   "execution_count": 15,
   "id": "619fc0d5",
   "metadata": {},
   "outputs": [
    {
     "name": "stdout",
     "output_type": "stream",
     "text": [
      "-36.14471809833201\n",
      "153.0\n"
     ]
    }
   ],
   "source": [
    "lat, lon = utm.to_latlon(500_000,6_000_000,zone_number=56, northern=False)\n",
    "print(lat)\n",
    "print(lon)"
   ]
  },
  {
   "cell_type": "code",
   "execution_count": 16,
   "id": "a0121db2",
   "metadata": {},
   "outputs": [
    {
     "name": "stdout",
     "output_type": "stream",
     "text": [
      "306944.5462806537 6192601.384739503 56 H\n",
      "308737.97303891764 6194857.521120843 56 H\n"
     ]
    }
   ],
   "source": [
    "lat_ll, lon_ll = -34.39, 150.90\n",
    "lat_ur, lon_ur = -34.37, 150.92\n",
    "\n",
    "import utm\n",
    "utm_east_ll, utm_north_ll, zone_ll, zone_dd_ll = utm.from_latlon(lat_ll, lon_ll)\n",
    "utm_east_ur, utm_north_ur, zone_ur, zone_dd_ur = utm.from_latlon(lat_ur, lon_ur)\n",
    "\n",
    "print(utm_east_ll, utm_north_ll, zone_ll, zone_dd_ll)\n",
    "print(utm_east_ur, utm_north_ur, zone_ur, zone_dd_ur)"
   ]
  },
  {
   "cell_type": "code",
   "execution_count": 17,
   "id": "019ca47a",
   "metadata": {},
   "outputs": [],
   "source": [
    "def zone_letter_to_hemisphere(zone_letter):\n",
    "    hemisphere = 'undefined'\n",
    "    if zone_letter.lower() in 'cdefghjklm':\n",
    "        hemisphere = 'southern'\n",
    "    if zone_letter.lower() in 'npqrstuvwx':\n",
    "        hemisphere = 'northern'\n",
    "    return hemisphere\n",
    "        "
   ]
  },
  {
   "cell_type": "code",
   "execution_count": 18,
   "id": "89463a55",
   "metadata": {},
   "outputs": [
    {
     "data": {
      "text/plain": [
       "'southern'"
      ]
     },
     "execution_count": 18,
     "metadata": {},
     "output_type": "execute_result"
    }
   ],
   "source": [
    "zone_letter_to_hemisphere(zone_dd_ll)"
   ]
  },
  {
   "cell_type": "code",
   "execution_count": null,
   "id": "0efc1998",
   "metadata": {},
   "outputs": [],
   "source": []
  },
  {
   "cell_type": "code",
   "execution_count": null,
   "id": "0cf53d69",
   "metadata": {},
   "outputs": [],
   "source": []
  }
 ],
 "metadata": {
  "kernelspec": {
   "display_name": "Python 3 (ipykernel)",
   "language": "python",
   "name": "python3"
  },
  "language_info": {
   "codemirror_mode": {
    "name": "ipython",
    "version": 3
   },
   "file_extension": ".py",
   "mimetype": "text/x-python",
   "name": "python",
   "nbconvert_exporter": "python",
   "pygments_lexer": "ipython3",
   "version": "3.9.13"
  }
 },
 "nbformat": 4,
 "nbformat_minor": 5
}
