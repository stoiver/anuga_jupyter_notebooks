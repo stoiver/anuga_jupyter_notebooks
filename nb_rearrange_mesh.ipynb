{
 "cells": [
  {
   "cell_type": "code",
   "execution_count": null,
   "id": "0197b79e",
   "metadata": {},
   "outputs": [],
   "source": [
    "import anuga\n",
    "import scipy.sparse as sprs\n",
    "import matplotlib.pyplot as plt\n",
    "import numpy as np"
   ]
  },
  {
   "cell_type": "code",
   "execution_count": null,
   "id": "6b121f27",
   "metadata": {},
   "outputs": [],
   "source": [
    "points, triangles, boundary = anuga.rectangular_cross(100,100)"
   ]
  },
  {
   "cell_type": "code",
   "execution_count": null,
   "id": "d1c7a7f7",
   "metadata": {},
   "outputs": [],
   "source": [
    "triangles"
   ]
  },
  {
   "cell_type": "code",
   "execution_count": null,
   "id": "7f7bd432",
   "metadata": {},
   "outputs": [],
   "source": [
    "domain = anuga.rectangular_cross_domain(100,100)"
   ]
  },
  {
   "cell_type": "code",
   "execution_count": null,
   "id": "8d30a82a",
   "metadata": {},
   "outputs": [],
   "source": [
    "domain.neighbour_edges"
   ]
  },
  {
   "cell_type": "code",
   "execution_count": null,
   "id": "12b6692d",
   "metadata": {},
   "outputs": [],
   "source": []
  },
  {
   "cell_type": "code",
   "execution_count": null,
   "id": "8a987a7f",
   "metadata": {},
   "outputs": [],
   "source": [
    "data = [] \n",
    "indices =[] \n",
    "indptr = []\n",
    "counter = 0\n",
    "for i, row in enumerate(domain.neighbours):\n",
    "    indptr.append(counter)\n",
    "    for entry in row:\n",
    "        if entry >= 0:\n",
    "            print(i,entry)\n",
    "            data.append(1)\n",
    "            indices.append(entry)\n",
    "            counter = counter+1\n",
    "indptr.append(counter)"
   ]
  },
  {
   "cell_type": "code",
   "execution_count": null,
   "id": "d3faa561",
   "metadata": {},
   "outputs": [],
   "source": [
    "len(data), len(indptr), len(indices)"
   ]
  },
  {
   "cell_type": "code",
   "execution_count": null,
   "id": "8aeac021",
   "metadata": {},
   "outputs": [],
   "source": [
    "indices[-1]"
   ]
  },
  {
   "cell_type": "code",
   "execution_count": null,
   "id": "7de77ae3",
   "metadata": {},
   "outputs": [],
   "source": [
    "adj_array = sprs.csr_array((data,indices,indptr))\n",
    "\n",
    "#print(adj_array)\n",
    "plt.spy(adj_array, markersize=1)\n",
    "#plt.show()"
   ]
  },
  {
   "cell_type": "code",
   "execution_count": null,
   "id": "3542f199",
   "metadata": {},
   "outputs": [],
   "source": [
    "from scipy.sparse.csgraph import reverse_cuthill_mckee"
   ]
  },
  {
   "cell_type": "code",
   "execution_count": null,
   "id": "7d3bbd01",
   "metadata": {},
   "outputs": [],
   "source": [
    "perm = reverse_cuthill_mckee(adj_array, symmetric_mode=True)\n",
    "perm"
   ]
  },
  {
   "cell_type": "code",
   "execution_count": null,
   "id": "3b7c23e4",
   "metadata": {},
   "outputs": [],
   "source": [
    "adj_perm = adj_array.copy()\n",
    "adj_perm.indices = perm.take(adj_perm.indices)\n",
    "adj_perm = adj_perm.tocsc()\n",
    "adj_perm.indices = perm.take(adj_perm.indices)"
   ]
  },
  {
   "cell_type": "code",
   "execution_count": null,
   "id": "34ee4ef6",
   "metadata": {},
   "outputs": [],
   "source": [
    "plt.spy(adj_perm, markersize=1)"
   ]
  },
  {
   "cell_type": "code",
   "execution_count": null,
   "id": "c97e4cd7",
   "metadata": {},
   "outputs": [],
   "source": []
  }
 ],
 "metadata": {
  "kernelspec": {
   "display_name": "Python 3 (ipykernel)",
   "language": "python",
   "name": "python3"
  },
  "language_info": {
   "codemirror_mode": {
    "name": "ipython",
    "version": 3
   },
   "file_extension": ".py",
   "mimetype": "text/x-python",
   "name": "python",
   "nbconvert_exporter": "python",
   "pygments_lexer": "ipython3",
   "version": "3.9.13"
  }
 },
 "nbformat": 4,
 "nbformat_minor": 5
}
