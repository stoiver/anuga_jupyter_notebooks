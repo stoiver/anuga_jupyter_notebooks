{
 "cells": [
  {
   "cell_type": "code",
   "execution_count": null,
   "id": "56b4da53",
   "metadata": {},
   "outputs": [],
   "source": [
    "import anuga\n",
    "import numpy as np\n",
    "import matplotlib.pyplot as plt\n",
    "\n",
    "%matplotlib inline\n",
    "\n",
    "# Allow inline jshtml animations\n",
    "from matplotlib import rc\n",
    "rc('animation', html='jshtml')"
   ]
  },
  {
   "cell_type": "code",
   "execution_count": null,
   "id": "fa07694c",
   "metadata": {},
   "outputs": [],
   "source": [
    "def make_a_utm_tif(south=True):\n",
    "    # We need to make a .tif to test some functions\n",
    "    # This does the job\n",
    "    #\n",
    "    from anuga.utilities import plot_utils as util\n",
    "    import numpy\n",
    "    \n",
    "    if south==True:\n",
    "        # Use Make_Geotif to make tif file\n",
    "        # Pick a domain that makes sense in EPSG:32756\n",
    "        # WGS 84 / UTM zone 56 South\n",
    "        x = numpy.linspace(307000., 307100., 101)\n",
    "        y = numpy.linspace(6193000., 6193100., 101)\n",
    "        xG, yG = numpy.meshgrid(x, y)\n",
    "        xG = xG.flatten()\n",
    "        yG = yG.flatten()\n",
    "        # Surface is z=x+y\n",
    "        fakeZ = xG-min(xG)+yG - min(yG)\n",
    "        dataToGrid = numpy.vstack([xG, yG, fakeZ]).transpose()\n",
    "        #\n",
    "        util.Make_Geotif(dataToGrid, output_quantities=['test_utm'],\n",
    "                        EPSG_CODE=32756, output_dir='.', CellSize=1.0)\n",
    "    \n",
    "    if south==False:\n",
    "        # Use Make_Geotif to make tif file\n",
    "        # Pick a domain that makes sense in EPSG:32656\n",
    "        # WGS 84 / UTM zone 56 North\n",
    "        x = numpy.linspace(307000., 307100., 101)\n",
    "        y = numpy.linspace(6193000., 6193100., 101)\n",
    "        xG, yG = numpy.meshgrid(x, y)\n",
    "        xG = xG.flatten()\n",
    "        yG = yG.flatten()\n",
    "        # Surface is z=x+y\n",
    "        fakeZ = xG-min(xG)+yG - min(yG)\n",
    "        dataToGrid = numpy.vstack([xG, yG, fakeZ]).transpose()\n",
    "        #\n",
    "        util.Make_Geotif(dataToGrid, output_quantities=['test_utm'],\n",
    "                        EPSG_CODE=32656, output_dir='.', CellSize=1.0)\n",
    "    \n",
    "def make_a_ll_tif():\n",
    "    # We need to make a .tif with ll coord to test some functions\n",
    "    #\n",
    "    from anuga.utilities import plot_utils as util\n",
    "    import numpy\n",
    "    #\n",
    "    # Do it with Make_Geotif\n",
    "    # Pick a domain that makes sense in EPSG:32756\n",
    "    lat_min, lat_max = -34.39, -34.37\n",
    "    lon_min, lon_max = 150.90, 150.92\n",
    "    lat = numpy.linspace(lat_min , lat_max, 101) \n",
    "    long = numpy.linspace(lon_min, lon_max, 101) \n",
    "\n",
    "    xG, yG = numpy.meshgrid(long, lat)\n",
    "    xG = xG.flatten()\n",
    "    yG = yG.flatten()\n",
    "    # Surface is z=x+y\n",
    "    \n",
    "    fakeZ = (xG-min(xG))/(max(xG)-min(xG))+(yG - min(yG))/(max(yG)-min(yG))\n",
    "    dataToGrid = numpy.vstack([xG, yG, fakeZ]).transpose()\n",
    "    #\n",
    "    #print(dataToGrid.shape)\n",
    "    util.Make_Geotif(dataToGrid, output_quantities=['test_ll'],\n",
    "                     EPSG_CODE=4326, output_dir='.', CellSize=0.0001)"
   ]
  },
  {
   "cell_type": "code",
   "execution_count": null,
   "id": "993376d1",
   "metadata": {},
   "outputs": [],
   "source": [
    "# Download elevation data for Sydney area\n",
    "import elevation # this package will download elevation data from\n",
    "lat_min, lat_max = -34.1, -33.3\n",
    "lon_min, lon_max = 150.6, 151.4\n",
    "\n",
    "\n",
    "import os\n",
    "cwd = os.getcwd()\n",
    "\n",
    "tif_filename = anuga.join(cwd,r'Sydney-DEM.tif')\n",
    "\n",
    "\n",
    "elevation.clip(bounds=(lon_min, lat_min, lon_max, lat_max), \n",
    "               output=tif_filename)\n",
    "\n",
    "elevation.clean()"
   ]
  },
  {
   "cell_type": "code",
   "execution_count": null,
   "id": "2a4eac29",
   "metadata": {},
   "outputs": [],
   "source": [
    "from osgeo import gdal\n",
    "import matplotlib.pyplot as plt\n",
    "\n",
    "import cartopy.crs as ccrs\n",
    "data_crs = ccrs.PlateCarree()\n",
    "\n",
    "dataset = gdal.Open(r'Sydney-DEM.tif')\n",
    "#dataset = gdal.Open(r'Rome-DEM.tif')\n",
    "#dataset = gdal.Open(r'NEW-DEM.tif')\n",
    "print(dataset.RasterCount)\n",
    "print(dataset.RasterXSize, dataset.RasterYSize)\n",
    "print(dataset.GetGeoTransform())"
   ]
  },
  {
   "cell_type": "code",
   "execution_count": null,
   "id": "e8a3c76e",
   "metadata": {},
   "outputs": [],
   "source": [
    "band1 = dataset.GetRasterBand(1)\n",
    "novalue = band1.GetNoDataValue()\n",
    "\n",
    "print(novalue)\n",
    "\n",
    "b1 = band1.ReadAsArray()\n",
    "\n",
    "b1 = numpy.flipud(b1)\n",
    "plt.figure()\n",
    "\n",
    "ax = plt.axes()\n",
    "#ax.set_global()\n",
    "\n",
    "#plt.imshow(b1)\n",
    "plt.contourf(b1, vmax=300, vmin=0.0)\n",
    "#plt.contour(b1, colors = 'black', #cmap = \"Grey\", \n",
    "#            levels = [0.0, 2000]) #list(range(1, 3, 1)))\n",
    "#ax.coastlines()\n",
    "plt.colorbar()\n",
    "plt.show()"
   ]
  },
  {
   "cell_type": "code",
   "execution_count": null,
   "id": "294cbb6e",
   "metadata": {},
   "outputs": [],
   "source": []
  },
  {
   "cell_type": "code",
   "execution_count": null,
   "id": "d41072e2",
   "metadata": {},
   "outputs": [],
   "source": [
    "make_a_utm_tif(south=False)\n",
    "make_a_ll_tif()"
   ]
  },
  {
   "cell_type": "code",
   "execution_count": null,
   "id": "0a117b4c",
   "metadata": {},
   "outputs": [],
   "source": [
    "ls"
   ]
  },
  {
   "cell_type": "code",
   "execution_count": null,
   "id": "48e7fbbf",
   "metadata": {},
   "outputs": [],
   "source": [
    "from anuga.file_conversion.tif2array import  tif2array\n",
    "from anuga.file_conversion.tif2point_values import tif2point_values"
   ]
  },
  {
   "cell_type": "code",
   "execution_count": null,
   "id": "dcd93a7d",
   "metadata": {},
   "outputs": [],
   "source": [
    "from pprint import pprint\n",
    "x,y,Z = tif2array('PointData_test_utm.tif')\n",
    "print(x.shape, y.shape, Z.shape)\n",
    "pprint(Z[11,:])\n",
    "pprint(y)\n",
    "pprint(x)"
   ]
  },
  {
   "cell_type": "code",
   "execution_count": null,
   "id": "a457088e",
   "metadata": {},
   "outputs": [],
   "source": [
    "x = numpy.linspace(307000., 308000., 11)\n",
    "y = numpy.linspace(6193000., 6194000., 11)\n",
    "xG, yG = numpy.meshgrid(x, y)\n",
    "xG = xG.flatten()\n",
    "yG = yG.flatten()\n",
    "\n",
    "\n",
    "points = numpy.vstack((xG,yG)).T\n",
    "Z = tif2point_values('PointData_test_ll.tif', zone=56, south=True, points = points)\n",
    "print(Z.shape)\n",
    "print(min(Z),max(Z))\n",
    "import pprint\n",
    "pprint.pprint(Z)"
   ]
  },
  {
   "cell_type": "code",
   "execution_count": null,
   "id": "e8b6960a",
   "metadata": {},
   "outputs": [],
   "source": [
    "import utm\n",
    "\n"
   ]
  },
  {
   "cell_type": "code",
   "execution_count": null,
   "id": "f8320107",
   "metadata": {},
   "outputs": [],
   "source": [
    "lat, lon = utm.to_latlon(x,y,zone_number=56, northern=False)\n",
    "print(lat)\n",
    "print(lon)"
   ]
  },
  {
   "cell_type": "code",
   "execution_count": null,
   "id": "2fb5edf9",
   "metadata": {},
   "outputs": [],
   "source": [
    "lat, lon = utm.to_latlon(x,y,zone_number=56, northern=True)\n",
    "print(lat)\n",
    "print(lon)"
   ]
  },
  {
   "cell_type": "code",
   "execution_count": null,
   "id": "255e7990",
   "metadata": {},
   "outputs": [],
   "source": [
    "y"
   ]
  },
  {
   "cell_type": "code",
   "execution_count": null,
   "id": "5e2c2e19",
   "metadata": {},
   "outputs": [],
   "source": [
    "lat, lon = utm.to_latlon(500_000,-4_000_000,zone_number=56, northern=True, strict=False)\n",
    "print(lat)\n",
    "print(lon)"
   ]
  },
  {
   "cell_type": "code",
   "execution_count": null,
   "id": "619fc0d5",
   "metadata": {},
   "outputs": [],
   "source": [
    "lat, lon = utm.to_latlon(500_000,6_000_000,zone_number=56, northern=False)\n",
    "print(lat)\n",
    "print(lon)"
   ]
  },
  {
   "cell_type": "code",
   "execution_count": null,
   "id": "a0121db2",
   "metadata": {},
   "outputs": [],
   "source": [
    "lat_ll, lon_ll = -34.39, 150.90\n",
    "lat_ur, lon_ur = -34.37, 150.92\n",
    "\n",
    "import utm\n",
    "utm_east_ll, utm_north_ll, zone_ll, zone_dd_ll = utm.from_latlon(lat_ll, lon_ll)\n",
    "utm_east_ur, utm_north_ur, zone_ur, zone_dd_ur = utm.from_latlon(lat_ur, lon_ur)\n",
    "\n",
    "print(utm_east_ll, utm_north_ll, zone_ll, zone_dd_ll)\n",
    "print(utm_east_ur, utm_north_ur, zone_ur, zone_dd_ur)"
   ]
  },
  {
   "cell_type": "code",
   "execution_count": null,
   "id": "019ca47a",
   "metadata": {},
   "outputs": [],
   "source": [
    "def zone_letter_to_hemisphere(zone_letter):\n",
    "    hemisphere = 'undefined'\n",
    "    if zone_letter.lower() in 'cdefghjklm':\n",
    "        hemisphere = 'southern'\n",
    "    if zone_letter.lower() in 'npqrstuvwx':\n",
    "        hemisphere = 'northern'\n",
    "    return hemisphere\n",
    "        "
   ]
  },
  {
   "cell_type": "code",
   "execution_count": null,
   "id": "89463a55",
   "metadata": {},
   "outputs": [],
   "source": [
    "zone_letter_to_hemisphere(zone_dd_ll)"
   ]
  },
  {
   "cell_type": "code",
   "execution_count": null,
   "id": "0efc1998",
   "metadata": {},
   "outputs": [],
   "source": []
  },
  {
   "cell_type": "code",
   "execution_count": null,
   "id": "0cf53d69",
   "metadata": {},
   "outputs": [],
   "source": []
  }
 ],
 "metadata": {
  "kernelspec": {
   "display_name": "Python 3 (ipykernel)",
   "language": "python",
   "name": "python3"
  },
  "language_info": {
   "codemirror_mode": {
    "name": "ipython",
    "version": 3
   },
   "file_extension": ".py",
   "mimetype": "text/x-python",
   "name": "python",
   "nbconvert_exporter": "python",
   "pygments_lexer": "ipython3",
   "version": "3.9.13"
  }
 },
 "nbformat": 4,
 "nbformat_minor": 5
}
